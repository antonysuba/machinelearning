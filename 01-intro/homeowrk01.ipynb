{
 "cells": [
  {
   "cell_type": "code",
   "execution_count": 2,
   "id": "5517e24a-bf1f-4e65-ae7b-305566a4f63f",
   "metadata": {},
   "outputs": [],
   "source": [
    "import pandas as pd\n",
    "import numpy as np"
   ]
  },
  {
   "cell_type": "code",
   "execution_count": 3,
   "id": "0f586943-16ff-4085-ba03-4800e1554bf1",
   "metadata": {},
   "outputs": [
    {
     "data": {
      "text/plain": [
       "'2.3.1'"
      ]
     },
     "execution_count": 3,
     "metadata": {},
     "output_type": "execute_result"
    }
   ],
   "source": [
    "pd.__version__"
   ]
  },
  {
   "cell_type": "code",
   "execution_count": 4,
   "id": "2711807e-663d-45b3-a719-66adbda28b89",
   "metadata": {},
   "outputs": [],
   "source": [
    "df = pd.read_csv('https://raw.githubusercontent.com/alexeygrigorev/datasets/master/car_fuel_efficiency.csv')"
   ]
  },
  {
   "cell_type": "code",
   "execution_count": 5,
   "id": "44a1e2fe-1c9a-4e39-b247-f1b4c40dd7d9",
   "metadata": {},
   "outputs": [
    {
     "data": {
      "text/plain": [
       "9704"
      ]
     },
     "execution_count": 5,
     "metadata": {},
     "output_type": "execute_result"
    }
   ],
   "source": [
    " df.shape[0]"
   ]
  },
  {
   "cell_type": "code",
   "execution_count": 6,
   "id": "e2e5d54a-9019-4033-8aad-5a4e9fd23de2",
   "metadata": {},
   "outputs": [
    {
     "data": {
      "text/html": [
       "<div>\n",
       "<style scoped>\n",
       "    .dataframe tbody tr th:only-of-type {\n",
       "        vertical-align: middle;\n",
       "    }\n",
       "\n",
       "    .dataframe tbody tr th {\n",
       "        vertical-align: top;\n",
       "    }\n",
       "\n",
       "    .dataframe thead th {\n",
       "        text-align: right;\n",
       "    }\n",
       "</style>\n",
       "<table border=\"1\" class=\"dataframe\">\n",
       "  <thead>\n",
       "    <tr style=\"text-align: right;\">\n",
       "      <th></th>\n",
       "      <th>engine_displacement</th>\n",
       "      <th>num_cylinders</th>\n",
       "      <th>horsepower</th>\n",
       "      <th>vehicle_weight</th>\n",
       "      <th>acceleration</th>\n",
       "      <th>model_year</th>\n",
       "      <th>origin</th>\n",
       "      <th>fuel_type</th>\n",
       "      <th>drivetrain</th>\n",
       "      <th>num_doors</th>\n",
       "      <th>fuel_efficiency_mpg</th>\n",
       "    </tr>\n",
       "  </thead>\n",
       "  <tbody>\n",
       "    <tr>\n",
       "      <th>0</th>\n",
       "      <td>170</td>\n",
       "      <td>3.0</td>\n",
       "      <td>159.0</td>\n",
       "      <td>3413.433759</td>\n",
       "      <td>17.7</td>\n",
       "      <td>2003</td>\n",
       "      <td>Europe</td>\n",
       "      <td>Gasoline</td>\n",
       "      <td>All-wheel drive</td>\n",
       "      <td>0.0</td>\n",
       "      <td>13.231729</td>\n",
       "    </tr>\n",
       "    <tr>\n",
       "      <th>1</th>\n",
       "      <td>130</td>\n",
       "      <td>5.0</td>\n",
       "      <td>97.0</td>\n",
       "      <td>3149.664934</td>\n",
       "      <td>17.8</td>\n",
       "      <td>2007</td>\n",
       "      <td>USA</td>\n",
       "      <td>Gasoline</td>\n",
       "      <td>Front-wheel drive</td>\n",
       "      <td>0.0</td>\n",
       "      <td>13.688217</td>\n",
       "    </tr>\n",
       "    <tr>\n",
       "      <th>2</th>\n",
       "      <td>170</td>\n",
       "      <td>NaN</td>\n",
       "      <td>78.0</td>\n",
       "      <td>3079.038997</td>\n",
       "      <td>15.1</td>\n",
       "      <td>2018</td>\n",
       "      <td>Europe</td>\n",
       "      <td>Gasoline</td>\n",
       "      <td>Front-wheel drive</td>\n",
       "      <td>0.0</td>\n",
       "      <td>14.246341</td>\n",
       "    </tr>\n",
       "    <tr>\n",
       "      <th>3</th>\n",
       "      <td>220</td>\n",
       "      <td>4.0</td>\n",
       "      <td>NaN</td>\n",
       "      <td>2542.392402</td>\n",
       "      <td>20.2</td>\n",
       "      <td>2009</td>\n",
       "      <td>USA</td>\n",
       "      <td>Diesel</td>\n",
       "      <td>All-wheel drive</td>\n",
       "      <td>2.0</td>\n",
       "      <td>16.912736</td>\n",
       "    </tr>\n",
       "    <tr>\n",
       "      <th>4</th>\n",
       "      <td>210</td>\n",
       "      <td>1.0</td>\n",
       "      <td>140.0</td>\n",
       "      <td>3460.870990</td>\n",
       "      <td>14.4</td>\n",
       "      <td>2009</td>\n",
       "      <td>Europe</td>\n",
       "      <td>Gasoline</td>\n",
       "      <td>All-wheel drive</td>\n",
       "      <td>2.0</td>\n",
       "      <td>12.488369</td>\n",
       "    </tr>\n",
       "  </tbody>\n",
       "</table>\n",
       "</div>"
      ],
      "text/plain": [
       "   engine_displacement  num_cylinders  horsepower  vehicle_weight  \\\n",
       "0                  170            3.0       159.0     3413.433759   \n",
       "1                  130            5.0        97.0     3149.664934   \n",
       "2                  170            NaN        78.0     3079.038997   \n",
       "3                  220            4.0         NaN     2542.392402   \n",
       "4                  210            1.0       140.0     3460.870990   \n",
       "\n",
       "   acceleration  model_year  origin fuel_type         drivetrain  num_doors  \\\n",
       "0          17.7        2003  Europe  Gasoline    All-wheel drive        0.0   \n",
       "1          17.8        2007     USA  Gasoline  Front-wheel drive        0.0   \n",
       "2          15.1        2018  Europe  Gasoline  Front-wheel drive        0.0   \n",
       "3          20.2        2009     USA    Diesel    All-wheel drive        2.0   \n",
       "4          14.4        2009  Europe  Gasoline    All-wheel drive        2.0   \n",
       "\n",
       "   fuel_efficiency_mpg  \n",
       "0            13.231729  \n",
       "1            13.688217  \n",
       "2            14.246341  \n",
       "3            16.912736  \n",
       "4            12.488369  "
      ]
     },
     "execution_count": 6,
     "metadata": {},
     "output_type": "execute_result"
    }
   ],
   "source": [
    "df.head()\n"
   ]
  },
  {
   "cell_type": "code",
   "execution_count": 7,
   "id": "be3e33e3-3a2d-456b-80f6-37ac3cd266b0",
   "metadata": {},
   "outputs": [
    {
     "data": {
      "text/plain": [
       "2"
      ]
     },
     "execution_count": 7,
     "metadata": {},
     "output_type": "execute_result"
    }
   ],
   "source": [
    "df['fuel_type'].nunique()"
   ]
  },
  {
   "cell_type": "code",
   "execution_count": 8,
   "id": "0c7da296-d10c-461d-a743-e8d3bf8937e8",
   "metadata": {},
   "outputs": [
    {
     "data": {
      "text/plain": [
       "engine_displacement      0\n",
       "num_cylinders          482\n",
       "horsepower             708\n",
       "vehicle_weight           0\n",
       "acceleration           930\n",
       "model_year               0\n",
       "origin                   0\n",
       "fuel_type                0\n",
       "drivetrain               0\n",
       "num_doors              502\n",
       "fuel_efficiency_mpg      0\n",
       "dtype: int64"
      ]
     },
     "execution_count": 8,
     "metadata": {},
     "output_type": "execute_result"
    }
   ],
   "source": [
    "df.isnull().sum()"
   ]
  },
  {
   "cell_type": "code",
   "execution_count": 9,
   "id": "518b8792-be2a-4659-804f-c18cf1060f56",
   "metadata": {},
   "outputs": [
    {
     "data": {
      "text/html": [
       "<div>\n",
       "<style scoped>\n",
       "    .dataframe tbody tr th:only-of-type {\n",
       "        vertical-align: middle;\n",
       "    }\n",
       "\n",
       "    .dataframe tbody tr th {\n",
       "        vertical-align: top;\n",
       "    }\n",
       "\n",
       "    .dataframe thead th {\n",
       "        text-align: right;\n",
       "    }\n",
       "</style>\n",
       "<table border=\"1\" class=\"dataframe\">\n",
       "  <thead>\n",
       "    <tr style=\"text-align: right;\">\n",
       "      <th></th>\n",
       "      <th>engine_displacement</th>\n",
       "      <th>num_cylinders</th>\n",
       "      <th>horsepower</th>\n",
       "      <th>vehicle_weight</th>\n",
       "      <th>acceleration</th>\n",
       "      <th>model_year</th>\n",
       "      <th>origin</th>\n",
       "      <th>fuel_type</th>\n",
       "      <th>drivetrain</th>\n",
       "      <th>num_doors</th>\n",
       "      <th>fuel_efficiency_mpg</th>\n",
       "    </tr>\n",
       "  </thead>\n",
       "  <tbody>\n",
       "    <tr>\n",
       "      <th>9387</th>\n",
       "      <td>330</td>\n",
       "      <td>3.0</td>\n",
       "      <td>136.0</td>\n",
       "      <td>1223.298226</td>\n",
       "      <td>NaN</td>\n",
       "      <td>2001</td>\n",
       "      <td>Asia</td>\n",
       "      <td>Gasoline</td>\n",
       "      <td>Front-wheel drive</td>\n",
       "      <td>1.0</td>\n",
       "      <td>23.759123</td>\n",
       "    </tr>\n",
       "    <tr>\n",
       "      <th>343</th>\n",
       "      <td>240</td>\n",
       "      <td>2.0</td>\n",
       "      <td>NaN</td>\n",
       "      <td>1652.883753</td>\n",
       "      <td>11.0</td>\n",
       "      <td>2018</td>\n",
       "      <td>Asia</td>\n",
       "      <td>Gasoline</td>\n",
       "      <td>Front-wheel drive</td>\n",
       "      <td>0.0</td>\n",
       "      <td>23.204566</td>\n",
       "    </tr>\n",
       "    <tr>\n",
       "      <th>7739</th>\n",
       "      <td>170</td>\n",
       "      <td>10.0</td>\n",
       "      <td>139.0</td>\n",
       "      <td>1491.755825</td>\n",
       "      <td>13.0</td>\n",
       "      <td>2005</td>\n",
       "      <td>Asia</td>\n",
       "      <td>Diesel</td>\n",
       "      <td>Front-wheel drive</td>\n",
       "      <td>0.0</td>\n",
       "      <td>23.033673</td>\n",
       "    </tr>\n",
       "    <tr>\n",
       "      <th>9401</th>\n",
       "      <td>110</td>\n",
       "      <td>1.0</td>\n",
       "      <td>183.0</td>\n",
       "      <td>1707.231276</td>\n",
       "      <td>11.9</td>\n",
       "      <td>2018</td>\n",
       "      <td>Asia</td>\n",
       "      <td>Diesel</td>\n",
       "      <td>All-wheel drive</td>\n",
       "      <td>-1.0</td>\n",
       "      <td>22.919968</td>\n",
       "    </tr>\n",
       "    <tr>\n",
       "      <th>5416</th>\n",
       "      <td>250</td>\n",
       "      <td>6.0</td>\n",
       "      <td>173.0</td>\n",
       "      <td>1354.787120</td>\n",
       "      <td>17.3</td>\n",
       "      <td>2007</td>\n",
       "      <td>Asia</td>\n",
       "      <td>Gasoline</td>\n",
       "      <td>Front-wheel drive</td>\n",
       "      <td>0.0</td>\n",
       "      <td>22.858156</td>\n",
       "    </tr>\n",
       "    <tr>\n",
       "      <th>...</th>\n",
       "      <td>...</td>\n",
       "      <td>...</td>\n",
       "      <td>...</td>\n",
       "      <td>...</td>\n",
       "      <td>...</td>\n",
       "      <td>...</td>\n",
       "      <td>...</td>\n",
       "      <td>...</td>\n",
       "      <td>...</td>\n",
       "      <td>...</td>\n",
       "      <td>...</td>\n",
       "    </tr>\n",
       "    <tr>\n",
       "      <th>2890</th>\n",
       "      <td>240</td>\n",
       "      <td>4.0</td>\n",
       "      <td>92.0</td>\n",
       "      <td>4323.711871</td>\n",
       "      <td>14.8</td>\n",
       "      <td>2007</td>\n",
       "      <td>Asia</td>\n",
       "      <td>Diesel</td>\n",
       "      <td>All-wheel drive</td>\n",
       "      <td>-1.0</td>\n",
       "      <td>7.485553</td>\n",
       "    </tr>\n",
       "    <tr>\n",
       "      <th>9120</th>\n",
       "      <td>180</td>\n",
       "      <td>3.0</td>\n",
       "      <td>181.0</td>\n",
       "      <td>4661.144932</td>\n",
       "      <td>12.5</td>\n",
       "      <td>2004</td>\n",
       "      <td>Asia</td>\n",
       "      <td>Diesel</td>\n",
       "      <td>Front-wheel drive</td>\n",
       "      <td>0.0</td>\n",
       "      <td>7.329314</td>\n",
       "    </tr>\n",
       "    <tr>\n",
       "      <th>6581</th>\n",
       "      <td>150</td>\n",
       "      <td>NaN</td>\n",
       "      <td>148.0</td>\n",
       "      <td>4392.759292</td>\n",
       "      <td>17.1</td>\n",
       "      <td>2016</td>\n",
       "      <td>Asia</td>\n",
       "      <td>Diesel</td>\n",
       "      <td>All-wheel drive</td>\n",
       "      <td>1.0</td>\n",
       "      <td>7.317353</td>\n",
       "    </tr>\n",
       "    <tr>\n",
       "      <th>3891</th>\n",
       "      <td>290</td>\n",
       "      <td>6.0</td>\n",
       "      <td>145.0</td>\n",
       "      <td>4481.764226</td>\n",
       "      <td>17.4</td>\n",
       "      <td>2010</td>\n",
       "      <td>Asia</td>\n",
       "      <td>Gasoline</td>\n",
       "      <td>All-wheel drive</td>\n",
       "      <td>0.0</td>\n",
       "      <td>6.939508</td>\n",
       "    </tr>\n",
       "    <tr>\n",
       "      <th>1095</th>\n",
       "      <td>210</td>\n",
       "      <td>6.0</td>\n",
       "      <td>93.0</td>\n",
       "      <td>4345.732510</td>\n",
       "      <td>18.9</td>\n",
       "      <td>2021</td>\n",
       "      <td>Asia</td>\n",
       "      <td>Diesel</td>\n",
       "      <td>All-wheel drive</td>\n",
       "      <td>0.0</td>\n",
       "      <td>6.886245</td>\n",
       "    </tr>\n",
       "  </tbody>\n",
       "</table>\n",
       "<p>3247 rows × 11 columns</p>\n",
       "</div>"
      ],
      "text/plain": [
       "      engine_displacement  num_cylinders  horsepower  vehicle_weight  \\\n",
       "9387                  330            3.0       136.0     1223.298226   \n",
       "343                   240            2.0         NaN     1652.883753   \n",
       "7739                  170           10.0       139.0     1491.755825   \n",
       "9401                  110            1.0       183.0     1707.231276   \n",
       "5416                  250            6.0       173.0     1354.787120   \n",
       "...                   ...            ...         ...             ...   \n",
       "2890                  240            4.0        92.0     4323.711871   \n",
       "9120                  180            3.0       181.0     4661.144932   \n",
       "6581                  150            NaN       148.0     4392.759292   \n",
       "3891                  290            6.0       145.0     4481.764226   \n",
       "1095                  210            6.0        93.0     4345.732510   \n",
       "\n",
       "      acceleration  model_year origin fuel_type         drivetrain  num_doors  \\\n",
       "9387           NaN        2001   Asia  Gasoline  Front-wheel drive        1.0   \n",
       "343           11.0        2018   Asia  Gasoline  Front-wheel drive        0.0   \n",
       "7739          13.0        2005   Asia    Diesel  Front-wheel drive        0.0   \n",
       "9401          11.9        2018   Asia    Diesel    All-wheel drive       -1.0   \n",
       "5416          17.3        2007   Asia  Gasoline  Front-wheel drive        0.0   \n",
       "...            ...         ...    ...       ...                ...        ...   \n",
       "2890          14.8        2007   Asia    Diesel    All-wheel drive       -1.0   \n",
       "9120          12.5        2004   Asia    Diesel  Front-wheel drive        0.0   \n",
       "6581          17.1        2016   Asia    Diesel    All-wheel drive        1.0   \n",
       "3891          17.4        2010   Asia  Gasoline    All-wheel drive        0.0   \n",
       "1095          18.9        2021   Asia    Diesel    All-wheel drive        0.0   \n",
       "\n",
       "      fuel_efficiency_mpg  \n",
       "9387            23.759123  \n",
       "343             23.204566  \n",
       "7739            23.033673  \n",
       "9401            22.919968  \n",
       "5416            22.858156  \n",
       "...                   ...  \n",
       "2890             7.485553  \n",
       "9120             7.329314  \n",
       "6581             7.317353  \n",
       "3891             6.939508  \n",
       "1095             6.886245  \n",
       "\n",
       "[3247 rows x 11 columns]"
      ]
     },
     "execution_count": 9,
     "metadata": {},
     "output_type": "execute_result"
    }
   ],
   "source": [
    "df[df['origin'] == 'Asia'].sort_values(by = ['fuel_efficiency_mpg'],ascending=False)"
   ]
  },
  {
   "cell_type": "code",
   "execution_count": 10,
   "id": "cdc7fe8f-d628-429d-9ef4-ae33936be83f",
   "metadata": {},
   "outputs": [
    {
     "data": {
      "text/plain": [
       "149.0"
      ]
     },
     "execution_count": 10,
     "metadata": {},
     "output_type": "execute_result"
    }
   ],
   "source": [
    "df['horsepower'].median()"
   ]
  },
  {
   "cell_type": "code",
   "execution_count": 11,
   "id": "382a471f-8c08-48d2-bae4-14609fe37545",
   "metadata": {},
   "outputs": [
    {
     "data": {
      "text/plain": [
       "0    152.0\n",
       "Name: horsepower, dtype: float64"
      ]
     },
     "execution_count": 11,
     "metadata": {},
     "output_type": "execute_result"
    }
   ],
   "source": [
    "df['horsepower'].mode()"
   ]
  },
  {
   "cell_type": "code",
   "execution_count": 12,
   "id": "28f32ce0-5d8a-4982-96ae-be4121150198",
   "metadata": {},
   "outputs": [
    {
     "data": {
      "text/plain": [
       "0       159.0\n",
       "1        97.0\n",
       "2        78.0\n",
       "3       152.0\n",
       "4       140.0\n",
       "        ...  \n",
       "9699    164.0\n",
       "9700    154.0\n",
       "9701    138.0\n",
       "9702    177.0\n",
       "9703    140.0\n",
       "Name: horsepower, Length: 9704, dtype: float64"
      ]
     },
     "execution_count": 12,
     "metadata": {},
     "output_type": "execute_result"
    }
   ],
   "source": [
    "df['horsepower'].fillna(152.0)"
   ]
  },
  {
   "cell_type": "code",
   "execution_count": 13,
   "id": "9639ad88-160d-438d-a6a5-f0a380dc2d5d",
   "metadata": {},
   "outputs": [
    {
     "data": {
      "text/plain": [
       "149.0"
      ]
     },
     "execution_count": 13,
     "metadata": {},
     "output_type": "execute_result"
    }
   ],
   "source": [
    "df['horsepower'].median()\n"
   ]
  },
  {
   "cell_type": "code",
   "execution_count": 24,
   "id": "d183b443-feec-4e4e-8e2d-2835523b6d34",
   "metadata": {},
   "outputs": [],
   "source": [
    "x = df.loc[df['origin'] == 'Asia',['vehicle_weight','model_year']].head(7).values\n",
    "\n"
   ]
  },
  {
   "cell_type": "code",
   "execution_count": 25,
   "id": "a7cbb65b-c901-4ccb-a6ef-b38886080282",
   "metadata": {},
   "outputs": [
    {
     "data": {
      "text/plain": [
       "array([[2714.21930965, 2016.        ],\n",
       "       [2783.86897424, 2010.        ],\n",
       "       [3582.68736772, 2007.        ],\n",
       "       [2231.8081416 , 2011.        ],\n",
       "       [2659.43145076, 2016.        ],\n",
       "       [2844.22753389, 2014.        ],\n",
       "       [3761.99403819, 2019.        ]])"
      ]
     },
     "execution_count": 25,
     "metadata": {},
     "output_type": "execute_result"
    }
   ],
   "source": [
    "x"
   ]
  },
  {
   "cell_type": "code",
   "execution_count": 26,
   "id": "785d377c-15b3-4bd7-b946-a8c05f64ef90",
   "metadata": {},
   "outputs": [],
   "source": [
    "xtx = np.dot(x.T , x)"
   ]
  },
  {
   "cell_type": "code",
   "execution_count": 27,
   "id": "6e649b83-34f7-4d65-896b-0ab986ea5a26",
   "metadata": {},
   "outputs": [
    {
     "data": {
      "text/plain": [
       "array([[62248334.33150762, 41431216.5073268 ],\n",
       "       [41431216.5073268 , 28373339.        ]])"
      ]
     },
     "execution_count": 27,
     "metadata": {},
     "output_type": "execute_result"
    }
   ],
   "source": [
    "xtx"
   ]
  },
  {
   "cell_type": "code",
   "execution_count": 28,
   "id": "0479a1e2-64a5-471e-a331-87c4b6f08117",
   "metadata": {},
   "outputs": [],
   "source": [
    "invert_xtx = np.linalg.inv(xtx)"
   ]
  },
  {
   "cell_type": "code",
   "execution_count": 29,
   "id": "3ea41903-be31-45f9-b87f-4cbf1cedcdad",
   "metadata": {},
   "outputs": [
    {
     "data": {
      "text/plain": [
       "array([[ 5.71497081e-07, -8.34509443e-07],\n",
       "       [-8.34509443e-07,  1.25380877e-06]])"
      ]
     },
     "execution_count": 29,
     "metadata": {},
     "output_type": "execute_result"
    }
   ],
   "source": [
    "invert_xtx"
   ]
  },
  {
   "cell_type": "code",
   "execution_count": 30,
   "id": "c3c36090-82ca-457d-be73-ecbf2066b27f",
   "metadata": {},
   "outputs": [],
   "source": [
    "y = [1100, 1300, 800, 900, 1000, 1100, 1200]"
   ]
  },
  {
   "cell_type": "code",
   "execution_count": 31,
   "id": "ce5d0538-a59f-4c58-b737-fff9ba798209",
   "metadata": {},
   "outputs": [
    {
     "data": {
      "text/plain": [
       "[1100, 1300, 800, 900, 1000, 1100, 1200]"
      ]
     },
     "execution_count": 31,
     "metadata": {},
     "output_type": "execute_result"
    }
   ],
   "source": [
    "y"
   ]
  },
  {
   "cell_type": "code",
   "execution_count": 32,
   "id": "6387ce06-bb93-41b4-8735-6e165ade344f",
   "metadata": {},
   "outputs": [],
   "source": [
    "ty = np.dot(invert_xtx,x.T)"
   ]
  },
  {
   "cell_type": "code",
   "execution_count": 33,
   "id": "88f9696a-92b2-430b-a455-0f69d6246d64",
   "metadata": {},
   "outputs": [
    {
     "data": {
      "text/plain": [
       "array([[-1.31202622e-04, -8.63909858e-05,  3.72634923e-04,\n",
       "        -4.02726650e-04, -1.62513724e-04, -5.52342829e-05,\n",
       "         4.65094049e-04],\n",
       "       [ 2.62636846e-04,  1.96990690e-04, -4.73392228e-04,\n",
       "         6.58944477e-04,  3.08357831e-04,  1.51636137e-04,\n",
       "        -6.07979633e-04]])"
      ]
     },
     "execution_count": 33,
     "metadata": {},
     "output_type": "execute_result"
    }
   ],
   "source": [
    "ty"
   ]
  },
  {
   "cell_type": "code",
   "execution_count": 34,
   "id": "011fb408-4664-4d3b-8121-5a50fc4b39b4",
   "metadata": {},
   "outputs": [],
   "source": [
    "w = np.dot(ty,y)\n"
   ]
  },
  {
   "cell_type": "code",
   "execution_count": 35,
   "id": "134b8e1c-96a3-44b1-8769-67e17d119cdf",
   "metadata": {},
   "outputs": [
    {
     "data": {
      "text/plain": [
       "array([0.01386421, 0.5049067 ])"
      ]
     },
     "execution_count": 35,
     "metadata": {},
     "output_type": "execute_result"
    }
   ],
   "source": [
    "w"
   ]
  },
  {
   "cell_type": "code",
   "execution_count": 36,
   "id": "6366e4db-0437-41fc-a623-4db54e99e558",
   "metadata": {},
   "outputs": [],
   "source": [
    "total_sum = np.sum(w)"
   ]
  },
  {
   "cell_type": "code",
   "execution_count": 37,
   "id": "357dce37-1add-483d-8a5c-58e8dd5325a5",
   "metadata": {},
   "outputs": [
    {
     "data": {
      "text/plain": [
       "np.float64(0.5187709081074016)"
      ]
     },
     "execution_count": 37,
     "metadata": {},
     "output_type": "execute_result"
    }
   ],
   "source": [
    "total_sum"
   ]
  },
  {
   "cell_type": "code",
   "execution_count": null,
   "id": "ecaaede4-6ce3-4d8d-b33f-018f52e962b1",
   "metadata": {},
   "outputs": [],
   "source": []
  }
 ],
 "metadata": {
  "kernelspec": {
   "display_name": "Python 3 (ipykernel)",
   "language": "python",
   "name": "python3"
  },
  "language_info": {
   "codemirror_mode": {
    "name": "ipython",
    "version": 3
   },
   "file_extension": ".py",
   "mimetype": "text/x-python",
   "name": "python",
   "nbconvert_exporter": "python",
   "pygments_lexer": "ipython3",
   "version": "3.12.3"
  }
 },
 "nbformat": 4,
 "nbformat_minor": 5
}
